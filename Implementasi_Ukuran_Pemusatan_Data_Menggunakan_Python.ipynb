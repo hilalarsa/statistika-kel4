{
  "nbformat": 4,
  "nbformat_minor": 0,
  "metadata": {
    "colab": {
      "name": "Implementasi Ukuran Pemusatan Data Menggunakan Python.ipynb",
      "version": "0.3.2",
      "provenance": [],
      "include_colab_link": true
    },
    "kernelspec": {
      "name": "python3",
      "display_name": "Python 3"
    }
  },
  "cells": [
    {
      "cell_type": "markdown",
      "metadata": {
        "id": "view-in-github",
        "colab_type": "text"
      },
      "source": [
        "<a href=\"https://colab.research.google.com/github/hilalarsa/statistika-kel4/blob/master/Implementasi_Ukuran_Pemusatan_Data_Menggunakan_Python.ipynb\" target=\"_parent\"><img src=\"https://colab.research.google.com/assets/colab-badge.svg\" alt=\"Open In Colab\"/></a>"
      ]
    },
    {
      "cell_type": "markdown",
      "metadata": {
        "id": "I7Sz8wOjpXLk",
        "colab_type": "text"
      },
      "source": [
        "# Implementasi Ukuran Pemusatan Data\n",
        "\n",
        "Implementasi dapat denga mudah dilakukan dengan bantuan library python untuk statistika bernama \"pandas\" dimana didalamnya telah terdapat built-in function untuk menghitung nilai mean, median, dan modus dari suatu data set.\n",
        "\n",
        "Data set yang digunakan adalah data dari http://archive.ics.uci.edu berupa 150 data hasil pengukuran bunga lily yang memiliki properti sepal width (lebar kelopak), sepal length (panjang kelopak), petal width (lebar mahkota), petal length (panjang bunga), dan sebuah class berupa nama klasifikasi bunga tersebut.\n",
        "\n",
        "Dalam implementasi berikut, digunakan 150 data dari pengukuran sepal width (lebar kelopak), yang diambil dari database, dan kemudian dijalankan melalui fungsi pandas, yang didapat hasil sebagai berikut :"
      ]
    },
    {
      "cell_type": "code",
      "metadata": {
        "id": "sQLXefvq-vGa",
        "colab_type": "code",
        "colab": {
          "base_uri": "https://localhost:8080/",
          "height": 90
        },
        "outputId": "12b65f71-858f-4dba-87f3-fcf0de66dfe3"
      },
      "source": [
        "import pandas as pd\n",
        "df = pd.read_csv(\"http://archive.ics.uci.edu/ml/machine-learning-databases/iris/iris.data\", names=[\"sepal length\", \"sepal width\", \"petal length\", \"petal width\", \"species\"])\n",
        "target = df[\"species\"]\n",
        "print(df[\"sepal length\"].mean())\n",
        "print(df[\"sepal length\"].median())\n",
        "print(df[\"sepal length\"].mode())\n"
      ],
      "execution_count": 1,
      "outputs": [
        {
          "output_type": "stream",
          "text": [
            "5.843333333333335\n",
            "5.8\n",
            "0    5.0\n",
            "dtype: float64\n"
          ],
          "name": "stdout"
        }
      ]
    }
  ]
}