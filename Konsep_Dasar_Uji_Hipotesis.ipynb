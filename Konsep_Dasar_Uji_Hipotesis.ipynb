{
  "nbformat": 4,
  "nbformat_minor": 0,
  "metadata": {
    "colab": {
      "name": "Untitled1.ipynb",
      "version": "0.3.2",
      "provenance": [],
      "include_colab_link": true
    },
    "kernelspec": {
      "name": "python3",
      "display_name": "Python 3"
    }
  },
  "cells": [
    {
      "cell_type": "markdown",
      "metadata": {
        "id": "view-in-github",
        "colab_type": "text"
      },
      "source": [
        "<a href=\"https://colab.research.google.com/github/hilalarsa/statistika-kel4/blob/master/Konsep_Dasar_Uji_Hipotesis.ipynb\" target=\"_parent\"><img src=\"https://colab.research.google.com/assets/colab-badge.svg\" alt=\"Open In Colab\"/></a>"
      ]
    },
    {
      "cell_type": "code",
      "metadata": {
        "id": "YBc_6RaHgDRd",
        "colab_type": "code",
        "colab": {}
      },
      "source": [
        ""
      ],
      "execution_count": 0,
      "outputs": []
    },
    {
      "cell_type": "markdown",
      "metadata": {
        "id": "bLCYIpJPgEC0",
        "colab_type": "text"
      },
      "source": [
        "## KONSEP DASAR UJI HIPOTESIS\n",
        "\n",
        "\n",
        "\n",
        "Dari arti katanya, hipotesis memang dari dua penggalan. Kata “HYPO” yang artinya “SEMENTARA ATAU LEMAH KEBERADAANNYA” dan “THESIS” yang artinya “PERNYATAAN ATAU TEORI”. Hipotesis pada dasarnya merupakan proposisi atau anggapan yang mungkin benar, dan sering digunakan sebagai dasar pembuatan suatu keputusan/ pemecahan persoalan ataupun dasar penelitian lebih lanjut. Anggapan suatu hipotesis juga merupakan sebagai data. Akan tetapi kemungkinan bisa salah, apabila digunakan sebagi dasar pembuatan keputusan harus terlebih dahulu diuji dengan menggunakan data hasil observasi.\n",
        "\n",
        "Dari sudut pandang statistik, hipotesis adalah taksiran terhadap parameter populasi, melalui data-data sampel. Sedangkan dari sudut pandang penelitian, hipotesis adalah jawaban sementara terhadap rumusan masalah penelitian. Rumusan masalah bisa berupa pernyataan tentang hubungan dua variabel atau lebih, perbandingan (komparasi), atau variabel mandiri (deskripsi).\n",
        "Dalam statistik dan penelitian terdapat dua macam hipotesis, yaitu hipotesis nol dan hipotesis alternatif.\n",
        "\n",
        "Pada statistik, hipotesis nol diartikan sebagai tidak adanya perbedaan antara parameter dengan statistik, atau tidak ada perbedaan antara ukuran populasi dan ukuran sampel. Dengan demikian, hipotesis yang diuji adalah hipotesis nol. Hipotesis alternatif adalah lawan dari hipotesis nol, yang berbunyi adanya perbedaan antara data populasi dengan data sampel.\n",
        "Pada penelitian, hipotesis nol juga menyatakan \"tidak ada\", tetapi bukan tidak adanya perbedaan antara populasi dan sampel, tetapi bisa berbentuk tidak adanya hubungan antara satu variabel dengan variabel lain, tidak adanya perbedaan antara satu variabel atau lebih pada populasi / sampel yang berbeda, dan tidak adanya perbedaan antara yang diharapkan dengan kenyataan pada satu variabel atau lebih untuk populasi atau sampel yang sama.\n",
        "\n",
        "## **Tiga Bentuk Rumusan Hipotesis**\n",
        "\n",
        "**1. Hipotesis Deskriptif**\n",
        "\n",
        "Hipotesis deskriptif yaitu dugaan terhadap nilai satu variabel dalam satu sampel meskipun di dalamnya bisa ada beberapa kategori.\n",
        "\n",
        "Contoh :\n",
        "\n",
        "•\tApakah panjang kelopak daun lebih dari 4cm?\n",
        "\n",
        "Dari rumusan masalah diatas, dapat dirumuskan hipotesis sebagai berikut :\n",
        "\n",
        "•\tPanjang kelopan daun lebih dari 4cm\n",
        "\n",
        "Untuk hipotesis dalam statistik, hipotesis nol disimbolkan dengan Ho, dan lawannya yakni hipotesis alternatif disimbolkan dengan Ha. Jika Ho diterima, maka Ha ditolak, begitu juga sebaliknya. \n",
        "Berikut ini adalah contoh pernyataan yang dapat dirumuskan hipotesis deskriptif-statistiknya:\n",
        "\n",
        "•\tSuatu perusahaan minuman harus mengikuti ketentuan, bahwa salah satu unsur kimia hanya boleh dicampurkan paling banyak 1%. (paling banyak berarti lebih kecil atau sama dengan $\\leq$). Dengan demikian rumusan hipotesis statistiknya adalah:\n",
        "Ho : panjang kelopak daun kurang dari 4cm\n",
        "Ha : panjang kelopak daun lebih dari 4cm\n",
        ".\n",
        "\n",
        "**2. Hipotesis Komparatif**\n",
        "\n",
        "Hipotesis Komparatif adalah dugaan terhadap perbandingan nilai dua sampel atau lebih. Hipotesis komparatif merupakan salah satu dari macam macam hipotesis. \n",
        "\n",
        "Contoh :\n",
        "\n",
        "•\tAapakah ada perbedaan panjang kelopak daun A dan B?\n",
        "\n",
        "Rumusan Hipotesis untuk kasus 1 adalah:\n",
        "\n",
        "•\tAda perbedaan panjang kelopak daun A dan B\n",
        "Ho : Ada perbedaan\n",
        "Ha: Tidak ada perbedaan\n",
        "\n",
        "\n",
        "**3. Hipotesis Hubungan (Asosiasif)**\n",
        "\n",
        "Hipotesis Asosiatif adalah dugaan terhadap hubungan antara dua variabel atau lebih. Hipotesis asosiatif merupakan salah satu dari macam macam hipotesis.\n",
        "\n",
        "Contoh :\n",
        "\n",
        "Ho : Tidak ada hubungan anatara panjang kelopak daun dengan bunga\n",
        "\n",
        "Ha : Terdapat hubungan anatara panjang kelopan daun dengan bunga"
      ]
    }
  ]
}