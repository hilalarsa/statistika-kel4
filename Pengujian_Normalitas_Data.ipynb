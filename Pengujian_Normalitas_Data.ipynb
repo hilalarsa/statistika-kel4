{
  "nbformat": 4,
  "nbformat_minor": 0,
  "metadata": {
    "colab": {
      "name": "Untitled0.ipynb",
      "version": "0.3.2",
      "provenance": [],
      "include_colab_link": true
    },
    "kernelspec": {
      "name": "python3",
      "display_name": "Python 3"
    }
  },
  "cells": [
    {
      "cell_type": "markdown",
      "metadata": {
        "id": "view-in-github",
        "colab_type": "text"
      },
      "source": [
        "<a href=\"https://colab.research.google.com/github/hilalarsa/statistika-kel4/blob/master/Pengujian_Normalitas_Data.ipynb\" target=\"_parent\"><img src=\"https://colab.research.google.com/assets/colab-badge.svg\" alt=\"Open In Colab\"/></a>"
      ]
    },
    {
      "cell_type": "code",
      "metadata": {
        "id": "kmjJAC7wHs6Z",
        "colab_type": "code",
        "colab": {}
      },
      "source": [
        "UJI NORMALITAS DATA\n",
        "\n",
        "Pengertian Uji Normalitas\n",
        "\n",
        "Uji Normalitas adalah sebuah uji yang dilakukan dengan tujuan untuk menilai sebaran data pada sebuah kelompok data atau variabel, apakah sebaran data tersebut berdistribusi normal ataukah tidak.\n",
        "Uji Normalitas berguna untuk menentukan data yang telah dikumpulkan berdistribusi normal atau diambil dari populasi normal. Metode klasik dalam pengujian normalitas suatu data tidak begitu rumit. Berdasarkan pengalaman empiris beberapa pakar statistik, data yang banyaknya lebih dari 30 angka (n > 30), maka sudah dapat diasumsikan berdistribusi normal. Biasa dikatakan sebagai sampel besar.\n",
        "Namun untuk memberikan kepastian, data yang dimiliki berdistribusi normal atau tidak, sebaiknya digunakan uji normalitas. Karena belum tentu data yang lebih dari 30 bisa dipastikan berdistribusi normal, demikian sebaliknya data yang banyaknya kurang dari 30 belum tentu tidak berdistribusi normal, untuk itu perlu suatu pembuktian.\n",
        "\n",
        "\n",
        "Distribusi Normal\n",
        "Disebut pula distribusi Gauss, adalah distribusi probabilitas yang paling banyak digunakan dalam berbagai analisis statistika. Distribusi normal baku adalah distribusi normal yang memilikirata-rata nol dan simpangan baku satu. Distribusi ini juga dijuluki kurva lonceng (bell curve) karena grafikfungsi kepekatan probabilitasnya mirip dengan bentuk lonceng.\n",
        "Distribusi normal memodelkan fenomena kuantitatif pada ilmu alam maupun ilmu sosial. Beragam skor pengujian psikologi dan fenomena fisika seperti jumlah foton dapat dihitung melalui pendekatan dengan mengikuti distribusi normal. \n",
        "Distribusi normal banyak digunakan dalam berbagai bidang statistika, misalnya distribusi sampling rata-rata akan mendekati normal, meski distribusi populasi yang diambil tidak berdistribusi normal. Distribusi normal juga banyak digunakan dalam berbagai distribusi dalam statistika, dan kebanyakan pengujian hipotesis mengasumsikan normalitas suatu data.\n",
        "\n",
        "\n",
        "\n",
        "Ciri Ciri Distribusi Normal\n",
        "• Memiliki parameter µ dan σ yang masing masing menentukan lokasi dan bentuk distribusi\n",
        "• Kurvanya mempunyai puncak tunggal\n",
        "• Rata-rata terletak di tengah distribusi dan distribusinya simetris di sekitar garis tegak lurus yang ditarik melalui rata-rata\n",
        "• Total luas daerah di bawah kurva normal adala 1 (hal ini berlaku untuk seluruh distribuso probabilitas kontinu)\n",
        "• Kedua ekor kurva memanjang tak berbatas dan pernah memotong sumbu horizontal\n",
        "• Kurvanya berbentuk seperti lonceng atau genta\n",
        "\n",
        "Kurva Normal\n",
        "Kurva normal adalah satu model distribusi dari sejumlah kemungkinan distribusi. Hal ini disebabkan karena penggunaan konsep kurva normal sangat luas dan dijadikan sebagai alat yang sangat penting dalam pengembangan suatu teori, konsep kurva normal juga memberikan status khusus dalam pengembangan kaidah-kaidah ilmiah.\n",
        "\n",
        "Ciri-ciri kurva normal :\n",
        "\n",
        "Bentuk kurva normal\n",
        "•\tMenyerupai lonceng (genta/bel).\n",
        "•\tMerupakan suatu poligon yang dilicinkan yang mana ordinat (sumbu tegak) merupakan frekuensi dan absisnya (sumbu alas) memuat nilai variabel.\n",
        "•\tLuas daerah merupakan nilai rata-rata (mean).\n",
        "•\tLuas daerah sebelah kiri dan kanan mendekati 50%.\n",
        "\n",
        "Daerah kurva normal\n",
        "•\tMerupakan ruangan yang dibatasi daerah kurva dengan absisnya (sumbu alas).\n",
        "•\tLuas daerah biasanya dinyatakan dalam persen atau proporsi.\n",
        "•\tDistribusi normal dipengaruhi oleh dua parameter, yaitu mean dan standar deviasi.\n",
        "•\tMean menentukan lokasi pusat statistik dan standar deviasi menentukan lebar dari kurva normal.\n"
      ],
      "execution_count": 0,
      "outputs": []
    }
  ]
}