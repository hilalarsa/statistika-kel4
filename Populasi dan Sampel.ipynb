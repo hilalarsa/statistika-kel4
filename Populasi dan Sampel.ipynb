{
  "nbformat": 4,
  "nbformat_minor": 0,
  "metadata": {
    "colab": {
      "name": "Populasi_Sampel.ipynb",
      "version": "0.3.2",
      "provenance": [],
      "collapsed_sections": [],
      "include_colab_link": true
    },
    "kernelspec": {
      "name": "python3",
      "display_name": "Python 3"
    }
  },
  "cells": [
    {
      "cell_type": "markdown",
      "metadata": {
        "id": "view-in-github",
        "colab_type": "text"
      },
      "source": [
        "<a href=\"https://colab.research.google.com/github/hilalarsa/statistika-kel4/blob/master/Populasi%20dan%20Sampel.ipynb\" target=\"_parent\"><img src=\"https://colab.research.google.com/assets/colab-badge.svg\" alt=\"Open In Colab\"/></a>"
      ]
    },
    {
      "cell_type": "code",
      "metadata": {
        "id": "pOeuzXQcX49h",
        "colab_type": "code",
        "colab": {}
      },
      "source": [
        ""
      ],
      "execution_count": 0,
      "outputs": []
    },
    {
      "cell_type": "markdown",
      "metadata": {
        "id": "mELsxmE1X6Pv",
        "colab_type": "text"
      },
      "source": [
        "# **POPULASI DAN SAMPEL**"
      ]
    },
    {
      "cell_type": "markdown",
      "metadata": {
        "id": "Xs2rEj7tYBGk",
        "colab_type": "text"
      },
      "source": [
        "## **Populasi**"
      ]
    },
    {
      "cell_type": "markdown",
      "metadata": {
        "id": "N1UPKdUnYFT7",
        "colab_type": "text"
      },
      "source": [
        "**Populasi** adalah wilayah generalisasi yang terdiri atas: obyek/subyek yang mempunyai kuantitas dan karakteristik tertentu yang ditetapkan oleh peneliti untuk dipelajari dan kemudian ditarik kesimpulannya. (Sugiyono)\n",
        "Atau dengan kata lain, populasi adalah semua unit atau obyek yang diteliti atau dianalisa dalam penelitian yang kita lakukan. Populasi tidak hanya sekedar jumlah dari obyek/subyek yang diteliti atau dipelajari, namun meliputi seluruh karakteristik/sifat yang dimiliki oleh obyek/subyek tersebut. "
      ]
    },
    {
      "cell_type": "markdown",
      "metadata": {
        "id": "DhgOhPnHZusd",
        "colab_type": "text"
      },
      "source": [
        "Contoh:\n",
        "1.   Dilakukan penelitian di sekolah X, maka sekolah X memiliki populasi yang bisa berupa jumlah subyek/orang. Pengertian pertama, memberi makna bahwa populasi merupakan sekumpulan orang/subyek dan obyek yang diamati. Pengertian kedua memberikan petunjuk bahwa orang-orang di sekolah X mempunyai karakteristik, misal motivasi kerjanya, disiplin kerjanya, disiplin kerjanya dll. Sekolah juga memilik karakteristik lain, seperti kebijakannya, prosedur kerjanya, lulusan  yang dihasilkan dll.\n",
        "2.   Dalam bidang kedokteran, satu orang sering bertindak sebagi populasi. Darah yang ada pada setiap orang adalah populasi, kalau akan diperiksa cukup diambil sebagian darahnya yang berupa sampel. Data yang diteliti dari sampel darah tersebut, selanjutnya diberlakukan ke seluruh darah yang dimiliki orang tersebut.\n",
        "\n"
      ]
    },
    {
      "cell_type": "markdown",
      "metadata": {
        "id": "WIrHAWqhYzxY",
        "colab_type": "text"
      },
      "source": [
        "## **Sampel**"
      ]
    },
    {
      "cell_type": "markdown",
      "metadata": {
        "id": "An5-cuMnc4vZ",
        "colab_type": "text"
      },
      "source": [
        "**Sampel** adalah bagian dari jumlah dan karakteristik yang dimiliki oleh populasi. Bila populasi besar, dan peneliti tidak mungkin mempelajari semua yang ada pada populasi, misalnya karena keterbatasan dana, tenaga dan waktu, maka peneliti dapat menggunakan sampel yang diambil dari populasi tersebut. Apa yang dipelajari dari sampel, kesimpulannya akan diberlakukan untuk populasi. Sehingga, sampel yang diambil dari populasi harus representatif. "
      ]
    },
    {
      "cell_type": "markdown",
      "metadata": {
        "id": "ZOJf_-LygWRt",
        "colab_type": "text"
      },
      "source": [
        "Contoh:\n",
        "\n",
        "1.   Dalam data set kambing di peternakan, 100 kambing menjadi sampel. Populasinya adalah seluruh kambing yang ada pada peternakan tersebut\n",
        "2.   Pada populasi tanaman anggrek yang tumbuh di pedalaman hutan Kalimantan, diambil sampel sebanyak 10 tanaman anggrek\n",
        "3.   Terdapat 25 penduduk laki-laki dijadikan sampel untuk mengisi quesioner tentang lamanya tidur dalam satu hari. Dimana populasinya adalah seluruh penduduk laki-laki di Kelurahan Lowokwaru, Kecamatan Lowokwaru, Kotamadya Malang\n",
        "\n",
        "\n",
        "\n"
      ]
    },
    {
      "cell_type": "markdown",
      "metadata": {
        "id": "ehHO_Uqsi2Qo",
        "colab_type": "text"
      },
      "source": [
        "## **Teknik Sampling**"
      ]
    },
    {
      "cell_type": "markdown",
      "metadata": {
        "id": "Ik_LUf1kjAe3",
        "colab_type": "text"
      },
      "source": [
        "Cara pengambilan sampel pada suatu populasi disebut dengan **teknik sampling**. Terdapat dua macam teknik, yakni **Probability Sampling** dan **NonProbability Sampling**"
      ]
    },
    {
      "cell_type": "markdown",
      "metadata": {
        "id": "ZCKjCjwijfot",
        "colab_type": "text"
      },
      "source": [
        "Probability sampling:\n",
        "1.   Sample random sampling\n",
        "2.   Proportionate stratified random sampling\n",
        "3.   Disproportionate stratified random sampling\n",
        "4.   Area (cluster) sampling (sampling menurut daerah)\n",
        "\n",
        "Non probability sampling:\n",
        "1.   Sampling sistematis\n",
        "2.   Sampling kuota\n",
        "3.   Sampling insidental\n",
        "4.   Purposive sampling\n",
        "5.   Sampling total\n",
        "6.   Snowball sampling\n",
        "\n",
        "\n",
        "\n",
        "\n",
        "\n"
      ]
    },
    {
      "cell_type": "markdown",
      "metadata": {
        "id": "WYK9VrtSmsCr",
        "colab_type": "text"
      },
      "source": [
        "## **Probability Sampling**"
      ]
    },
    {
      "cell_type": "markdown",
      "metadata": {
        "id": "NUHWtZhK1QUt",
        "colab_type": "text"
      },
      "source": [
        "Merupakan teknik sampling yang memberikan **peluang** yang sama bagi setiap anggota populasi untuk dipilih menjadi anggota sampel."
      ]
    },
    {
      "cell_type": "markdown",
      "metadata": {
        "id": "1bvkhbmem2xr",
        "colab_type": "text"
      },
      "source": [
        "### **Simple Random Sampling**"
      ]
    },
    {
      "cell_type": "markdown",
      "metadata": {
        "id": "NI6_H-6Im88l",
        "colab_type": "text"
      },
      "source": [
        "Pengambilan anggota sampel dari populasi dilakukan secara acak, tanpa memperhatikan strata yang ada dalam populasi tersebut. Hal itu dilakukan bila anggota populasi dianggap homogen. Cara pengambilannya dapat dilakukan dengan cara undian, generate random number, dll.  \n",
        "![Ilustrasi sampling](https://www.de.sarupub.org/wp-content/uploads/survey-methods.jpg)"
      ]
    },
    {
      "cell_type": "markdown",
      "metadata": {
        "id": "UbddjBCZnfuz",
        "colab_type": "text"
      },
      "source": [
        "### **Proportionate Stratified Random Sampling**"
      ]
    },
    {
      "cell_type": "markdown",
      "metadata": {
        "id": "e3v5GYD5oiUE",
        "colab_type": "text"
      },
      "source": [
        "Pengambilan sampel dengan teknik ini digunakan bila populasi mempunyai anggota yang tidak homogen dan berstrata secara proporsional. Misalnya, suatu organisasi yang mempunyai pegawai dari latar belakang pendidikan berstrata, maka populasi pegawai tersebut memiliki strata. Sebagai contoh, jumlah pegawai yang lulus S1 = 45, S2 = 30, STM = 800, ST = 900, SMEA = 400, SD = 300. Jumlah sampel yang diambil harus meliputi semua strata pendidikan tersebut.  \n",
        "![Stratified Random Sampling](https://upload.wikimedia.org/wikipedia/commons/thumb/f/fa/Stratified_sampling.PNG/220px-Stratified_sampling.PNG)"
      ]
    },
    {
      "cell_type": "markdown",
      "metadata": {
        "id": "StCErxODpeS-",
        "colab_type": "text"
      },
      "source": [
        "### **Disproporsionate Stratified Random Sampling**"
      ]
    },
    {
      "cell_type": "markdown",
      "metadata": {
        "id": "5b7wiZVIpkZ2",
        "colab_type": "text"
      },
      "source": [
        "Pengambilan sampel dengan teknik ini digunakan, bila populasi berstrata tetapi kurang proporsional. Misal, pegawai memiliki latar belakang pendidikan S3 = 3, S2 = 4, S1 = 90, SMU = 800, SMP = 700. Maka 3 orang lulusan S3 dan 4 orang lulusan S2 itu diambil semuanya sebagai sampel, karena kedua kelompok tersebut terlalu kecil bila dibandingkan dengan kelompok S1, SMU, SMP."
      ]
    },
    {
      "cell_type": "markdown",
      "metadata": {
        "id": "sz_61gIVq_Qx",
        "colab_type": "text"
      },
      "source": [
        "### **Cluster Sampling**"
      ]
    },
    {
      "cell_type": "markdown",
      "metadata": {
        "id": "1K0Au-WmrErF",
        "colab_type": "text"
      },
      "source": [
        "Cluster sampling digunakan pengambilan sampel nya dari obyek penelitian atau sumber data yang sangat luas, misal penduduk dari suatu negara, propinsi atau kabupaten. Untuk menentukan penduduk mana yang akan dijadikan sumber data, maka pengambilannya ditetapkan secara bertahap dari wilayah yang luas (negara) sampai ke wilayah yang terkecil (kabupaten). Setelah terpilih sampai yang terkecil, lalu dilakukan pemilihan sampel secara acak.  \n",
        "![alt text](https://2.bp.blogspot.com/-B37x7U-BS5g/WAI8MCApbzI/AAAAAAAAAOo/4VyzIjSztLMmbPwmc3ctmFRoVXX-pNMHwCK4B/s640/Cluster%2BSampling.jpg)"
      ]
    },
    {
      "cell_type": "markdown",
      "metadata": {
        "id": "N65WOS6EsZ0i",
        "colab_type": "text"
      },
      "source": [
        "## **Nonprobability Sampling**"
      ]
    },
    {
      "cell_type": "markdown",
      "metadata": {
        "id": "KhdjZ4nHsfmI",
        "colab_type": "text"
      },
      "source": [
        "Merupakan teknik sampling yang **tidak memberikan peluang** yang sama bagi setiap anggota populasi untuk dipilih menjadi anggota sampel."
      ]
    },
    {
      "cell_type": "markdown",
      "metadata": {
        "id": "Ik6NAtMi6blH",
        "colab_type": "text"
      },
      "source": [
        "### **Sampling Sistematis**"
      ]
    },
    {
      "cell_type": "markdown",
      "metadata": {
        "id": "MP7aTGXC6jD4",
        "colab_type": "text"
      },
      "source": [
        "Merupakan teknik pengambilan sampel berdasarkan urutan dari anggota populasi yang telah diberi nomor urut. \n",
        "Contoh:\n",
        "1.   Misalnya dilakukan survey kepuasan pelanggan oleh PT. X. Dimana PT. X memiliki 1.000.000 pelanggan. Untuk survey tersebut hanya diberikan kepada pelanggan dengan nomor urut kelipatan 100, seperti 100, 200, 300 dst. \n",
        "2.   Pengambilan sampel pada anggota populasi dengan nomor urut ganjil atau dengan nomor genap saja.\n",
        "\n"
      ]
    },
    {
      "cell_type": "markdown",
      "metadata": {
        "id": "2xQn7Gu69Pld",
        "colab_type": "text"
      },
      "source": [
        "### **Sampling Kuota**"
      ]
    },
    {
      "cell_type": "markdown",
      "metadata": {
        "id": "uJI73QQS9Ulr",
        "colab_type": "text"
      },
      "source": [
        "Sampling kuota adalah teknik untuk menentukan sampel dari populasi yang mempunyai ciri-ciri tertentu sampai jumlah yang diinginkan (kuota). <br>\n",
        "Contoh:\n",
        "*   Melakukan penelitian tentang pendapatan masyarakat terhadap pelayanan masyarakat terkait Ijin Mendirikan Bangunan. Penelitian dilakukan kepada jumlah sampel yang ditentukan, yakni 500 orang. Jika pengumpulan data belum memenuhi kuota 500 orang, maka penelitian dianggap belum selesai, karena data belum terpenuhi.\n",
        "\n",
        "\n",
        "\n",
        "\n",
        "\n"
      ]
    },
    {
      "cell_type": "markdown",
      "metadata": {
        "id": "niCvvgYzAg6H",
        "colab_type": "text"
      },
      "source": [
        "### **Sampling Insidental**"
      ]
    },
    {
      "cell_type": "markdown",
      "metadata": {
        "id": "yB8CmUHIAl4K",
        "colab_type": "text"
      },
      "source": [
        "Merupakan teknik penuntuan sampel berdasarkan kebetulan. Maksudnya adalah, siapa saja atau apa saja yang secara **kebetulan/insidental** bertemu dengan peneliti, maka dijadikan sebagai sampel, bila obyek tersebut masuk dalam kriteria sampel bagi peneliti. "
      ]
    },
    {
      "cell_type": "markdown",
      "metadata": {
        "id": "pcYUWecwB2wZ",
        "colab_type": "text"
      },
      "source": [
        "### **Sampling Purposive**"
      ]
    },
    {
      "cell_type": "markdown",
      "metadata": {
        "id": "lJP68BAxB8bq",
        "colab_type": "text"
      },
      "source": [
        "Sampling purposive adalah teknik penentuan sampel dengan pertimbangan tertentu. MIsalnya akan melakukan penelitian tentang kondisi lingkungan disuatu daerah, maka sampel sumber datanya adalah ahli lingkungan. Teknik sampling ini cocok digunakan untuk penelitian kualitatif, atau penelitian-penelitian yang tidak melakukan generalisasi.  "
      ]
    },
    {
      "cell_type": "markdown",
      "metadata": {
        "id": "apnaypFJEMWX",
        "colab_type": "text"
      },
      "source": [
        "### **Sampling Total**"
      ]
    },
    {
      "cell_type": "markdown",
      "metadata": {
        "id": "pd8rAw8LEQXP",
        "colab_type": "text"
      },
      "source": [
        "Teknik sampling total merupakan teknik pengambilan sampel dengan cara mengambil semua anggota populasi untuk menjadi anggota sampel. Hal ini dilakukan bila jumlah populasi relatif kecil, atau penelitian yang ingin membuat generalisasi dengan kesalahan yang sangat kecil. Istilah lain teknik ini adalah **sensus**, dimana semua anggota populasi dijadikan sampel."
      ]
    },
    {
      "cell_type": "markdown",
      "metadata": {
        "id": "eIIWDJpKFaBw",
        "colab_type": "text"
      },
      "source": [
        "### **Snowball Sampling**"
      ]
    },
    {
      "cell_type": "markdown",
      "metadata": {
        "id": "YlNsh9DQGmvD",
        "colab_type": "text"
      },
      "source": [
        "Merupakan penentuan sampel yang mula-mula jumlahnya kecil, kemudian membesar. Seperti bola salju (snowball) yang menggelinding, pada awalnya kecil lalu makin lama membesar.  \n",
        "![alt text](https://encrypted-tbn0.gstatic.com/images?q=tbn:ANd9GcTs-RtteT_t21oPX9y5JW1zgQcFkYGO2GV8pG5u4MUdwo50lqRz)"
      ]
    },
    {
      "cell_type": "markdown",
      "metadata": {
        "id": "nbVoRUPRb0u5",
        "colab_type": "text"
      },
      "source": [
        "## **Menentukan Ukuran Sampel**"
      ]
    },
    {
      "cell_type": "markdown",
      "metadata": {
        "id": "20ce4jI3b5--",
        "colab_type": "text"
      },
      "source": [
        "Dalam penentuan ukuran sampel, semakin besar ukuran sampel yang diambil, maka tingkat kesalahan generalisasi semakin kecil. Dengan kata lain apabila jumlah sampel mendekati jumlah populasi, maka peluang kesalahan generalisasi makin kecil, begitu pula sebaliknya. Bila ada pertanyaan, berapa jumlah anggota sampel yang tepat digunakan dalam penelitian? Jawabannya tergantung dari tingkat ketelitian atau tingkat kesalahan yang dikehendaki. Pada bagian berikut ini akan dijelaskan tentang teknik-teknik penentuan ukuran sampel, sebagai catatan teknik ini dapat diterapkan bila data terdistribusi normal."
      ]
    },
    {
      "cell_type": "markdown",
      "metadata": {
        "id": "cdVXBjVksU3m",
        "colab_type": "text"
      },
      "source": [
        "### **Isaac dan Michael**"
      ]
    },
    {
      "cell_type": "markdown",
      "metadata": {
        "id": "i8HKA2iPl23I",
        "colab_type": "text"
      },
      "source": [
        "Pada bahasan ini akan diberikan persamaan untuk menentukan jumlah sampel berdasarkan Isaac dan Michael (*Isaac, S., & Michael, W. B. (1995). Handbook in research and evaluation: A collection of principles, methods, and strategies useful in the planning, design, and evaluation of studies in education and the behavioral sciences (3rd ed.). San Diego, CA, US: EdITS Publishers.*)\n",
        "\n",
        "---\n",
        "\n",
        "$s=\\frac{\\lambda^{2}. N . P . Q}{d^{2}. (N-1).\\lambda^{2}.P.Q}$\n",
        "\n",
        "s = Jumlah sample <br>\n",
        "N = Jumlah populasi <br>\n",
        "$\\lambda^{2}$ = Chi Kuadrat nilainya tergantung derajat kebebasan(dk) dan tingkat kesalahan, dengan dk = 1, taraf kesalahan 1% maka chi kuadrat = 6,634, taraf kesalahan 5% maka chi kuadrat = 3,841, dan taraf kesalahan 10% maka chi kuadrat = 2,706 <br>\n",
        "d = derajat akurasi yang diekspresikan sebagai proporsi (0,05) <br>\n",
        "P (peluang benar) = Q (peluang salah) = Proporsi populasi = 0,5 "
      ]
    },
    {
      "cell_type": "code",
      "metadata": {
        "id": "MuR6N83tpWgx",
        "colab_type": "code",
        "colab": {}
      },
      "source": [
        ""
      ],
      "execution_count": 0,
      "outputs": []
    },
    {
      "cell_type": "markdown",
      "metadata": {
        "id": "ashZL8C3pLAY",
        "colab_type": "text"
      },
      "source": [
        "Contoh:\n",
        "\n",
        "*   HItunglah jumlah sampel bila populasi 1000 orang, tingkat kesalahan 5%, dan perbedaan antara rata-rata sampel dengan rata-rata populasi = 0,05.\n",
        "*   Dengan menggunakan persamaan Isaac dan Michael, maka:<br>\n",
        "$s=\\frac{(3,841 . 1000 . 0,5 . 0,5)}{(0.05^2 . (1000-1)) + 3,841 . 0,5 . 0,5} = 277$\n",
        "*   Jadi untuk populasi 1000 dengan tingkat kesalahan 5% jumlah sampelnya adalah 277\n",
        "\n",
        "\n",
        "\n",
        "\n",
        "\n",
        "\n"
      ]
    },
    {
      "cell_type": "markdown",
      "metadata": {
        "id": "oExEhG8xrPrB",
        "colab_type": "text"
      },
      "source": [
        "**Tabel Isaac dan Michael  ** <br>\n",
        "![alt text](http://1.bp.blogspot.com/-NslZBltQf1s/UVx0bDpzyxI/AAAAAAAAApI/hP9axnja9Fw/s1600/Clipboard01.jpg)"
      ]
    },
    {
      "cell_type": "markdown",
      "metadata": {
        "id": "qGMGcNjnw0UM",
        "colab_type": "text"
      },
      "source": [
        "### **Nomogram Harry King**"
      ]
    },
    {
      "cell_type": "markdown",
      "metadata": {
        "id": "1uFBe7VFxAG9",
        "colab_type": "text"
      },
      "source": [
        "Nomogram Harry King adalah sebuah nomogram yang digunakan untuk menentukan jumlah atau ukuran sampel dengan cara menarik garis lurus dari titik yang menunjukkan jumlah populasi dengan melewati titik tingkat kesalahan, sehingga diperoleh prosentase populasi yang diambil sebagai sampel. Pada nomogram ini, populasi yang bisa ditentukan jumlah sampelnya hanya samapai 2.000 saja. <br>\n",
        "Pada rumus perhitungannya, terdapat faktor pengali. Besarnya faktor pengali (*multiplication factor*) ini tergantung pada *confidence interval* yang digunakan. ***Confidence interval*** ini apabila dikaitkan dengan pembahasan sebelumnya, maka kaitannya adalah dengan** taraf kesalahan**. Bila *confidence interval* 99%, maka taraf kesalahannya adalah 1%, bila *confidence interval *95%, maka taraf kesalahannya 5%.<br>\n",
        "\n",
        "Conf. Int. | Mult. Fact.\n",
        "--- | ---\n",
        "80% | 0,780\n",
        "85% | 0,875\n",
        "95% | 1,195\n",
        "99% | 1,573\n"
      ]
    },
    {
      "cell_type": "markdown",
      "metadata": {
        "id": "c_3QL2Jl9JRg",
        "colab_type": "text"
      },
      "source": [
        "Berikut ini adalah contoh perhitungan Nomogram Harry King: <br>\n",
        "![alt text](https://lh6.googleusercontent.com/-rBc9kr51xnM/UUmHhoGc71I/AAAAAAAAAHc/hui2zXS2LlQ/s482/TeknikSampling-2.jpg)\n",
        "<br>\n",
        "Misalnya populasi berjumlah 200 orang, bila tingkat kepercayaan yang dikehendaki adalah 5%, maka jumlah sampel yang diambil adalah:<br>\n",
        "n = 200 x (58%) x 1,195 <br>\n",
        "= 138,62 ˜ 139 orang<br>\n",
        "Keterangan: <br>\n",
        "\n",
        "*   Angka 58% didapat dari nomograf dengan menarik garis lurus melewati angka 200 dan taraf kesalahan 5%\n",
        "*   1,195 adalah faktor pengali dari selang kepercayaan 95%\n",
        "\n",
        "\n",
        "<br>\n",
        "Contoh diambil dari https://freelearningji.wordpress.com/2013/03/20/88/"
      ]
    },
    {
      "cell_type": "markdown",
      "metadata": {
        "id": "xKH7a1z1uupF",
        "colab_type": "text"
      },
      "source": [
        "### **Roscoe**"
      ]
    },
    {
      "cell_type": "markdown",
      "metadata": {
        "id": "rWT9jsBMu8Ea",
        "colab_type": "text"
      },
      "source": [
        "Menurut Roscoe, penentuan jumlah sampel itu ada aturannya. (*Roscoe, J.T. (1975) Fundamental Research Statistics for the Behavioral Sciences*)"
      ]
    },
    {
      "cell_type": "markdown",
      "metadata": {
        "id": "xxwla5Ci_DMv",
        "colab_type": "text"
      },
      "source": [
        "1.   Sebaiknya ukuran sampel di antara 30 s/d 500 elemen\n",
        "2.   Jika sampel dipecah lagi kedalam subsample, jumlah minimum subsample harus 30\n",
        "3.   Pada penelitian multivariate (termasuk analisis regresi multivariate) ukuran sampel harus beberapa kali lebih besar (10 kali) dari jumlah variable yang akan dianalisis\n",
        "4.   Untuk penelitian eksperimen yang sederhana, denganp pengendalian yang ketat, ukuran sampel bisa antara 10 s/d 20 elemen\n",
        "\n",
        "\n",
        "\n",
        "\n",
        "\n"
      ]
    },
    {
      "cell_type": "markdown",
      "metadata": {
        "id": "CbpoPTXrIUJL",
        "colab_type": "text"
      },
      "source": [
        "### **Krejcie dan Morgan**"
      ]
    },
    {
      "cell_type": "markdown",
      "metadata": {
        "id": "QyNpxyX0IYWo",
        "colab_type": "text"
      },
      "source": [
        "Selain tiga teknik penentuan ukuran sampel yang telah dibahas sebelumnya, masih terdapat 1 lagi teknik pengambilan sampel yang dapat digunakan, yakni teknik pengambilan sampel menurut Krejcie dan Morgan. (*Krejcie, R.V., & Morgan, D.W., (1970). Determining Sample Size for Research Activities. Educational and Psychological Measurement.*)\n",
        "\n",
        "---\n",
        "\n",
        "Persamaan:<br>\n",
        "$s=\\lambda^{2}.N.P(1-P)+d^{2}(N-1)+\\lambda^{2}.P(1-P)$ <br>\n",
        "\n",
        "s = Jumlah sampel <br>\n",
        "N = Jumlah populasi <br>\n",
        "$\\lambda^{2}$ = Chi Kuadrat nilainya tergantung derajat kebebasan(dk) dan tingkat kesalahan, dengan dk = 1, taraf kesalahan 1% maka chi kuadrat = 6,634, taraf kesalahan 5% maka chi kuadrat = 3,841, dan taraf kesalahan 10% maka chi kuadrat = 2,706 <br>\n",
        "d = derajat akurasi yang diekspresikan sebagai proporsi (0,05) <br>\n",
        "P (peluang benar)  = Proporsi populasi = 0,5 "
      ]
    },
    {
      "cell_type": "markdown",
      "metadata": {
        "id": "iMHgMTTGJjLM",
        "colab_type": "text"
      },
      "source": [
        "**Tabel Krejcie Morgan**\n",
        "<br>\n",
        "![alt text](http://www.kenpro.org/wp-content/uploads/2013/08/krejcie-and-morgan-table-of-determining-sample-size.png)"
      ]
    }
  ]
}