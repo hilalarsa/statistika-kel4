{
  "nbformat": 4,
  "nbformat_minor": 0,
  "metadata": {
    "colab": {
      "name": "Untitled0.ipynb",
      "version": "0.3.2",
      "provenance": [],
      "collapsed_sections": [],
      "include_colab_link": true
    },
    "kernelspec": {
      "name": "python3",
      "display_name": "Python 3"
    }
  },
  "cells": [
    {
      "cell_type": "markdown",
      "metadata": {
        "id": "view-in-github",
        "colab_type": "text"
      },
      "source": [
        "<a href=\"https://colab.research.google.com/github/hilalarsa/statistika-kel4/blob/master/Ukuran%20Persebaran%20Data.ipynb\" target=\"_parent\"><img src=\"https://colab.research.google.com/assets/colab-badge.svg\" alt=\"Open In Colab\"/></a>"
      ]
    },
    {
      "cell_type": "code",
      "metadata": {
        "id": "xdmL0OnPpQgH",
        "colab_type": "code",
        "colab": {
          "base_uri": "https://localhost:8080/",
          "height": 129
        },
        "outputId": "ed2d1bad-3ee2-485e-8668-b6c36360a3e8"
      },
      "source": [
        "Ukuran Persebaran Data\n",
        "Dengan menentukan pemusatan data dan ukuran letak data ternyata belum cukup memberikan gambaran yang jelas dari suatu data. Pada pengukuran statistika, selain ukuran pemusatan dan ukuran letak, juga ada Ukuran Penyebaran Data.\n",
        "Ukuran Penyebaran data adalah ukuran yang menunjukkan seberapa jauh data suatu menyebar dari rata-ratanya. Dalam Penyebaran Data akan dipelajari materi Jangkauan(range), Simpangan, dan Ragam (variansi). akan kita pelajari pada artikel ini, yaitu Jangkauan (range), Simpangan rata-rata, Ragam (variasi), dan Simpangan Baku. \n",
        "\n",
        "Dalam mempelajari Ukuran Persebaran Data, akan digunakan data pengukuran bunga lily pada tahun 1936 oleh R.A. Fisher (https://archive.ics.uci.edu/ml/datasets/Iris)  yang berisi 150 data set pengukuran bunga Lily yang dipetakan dengan 4 buah atribut dan 1 buah kesimpulan klasifikasi\n",
        "  Dengan kelompok data ini, kemudian diambil sample beberapa data dari lebar kelopak bunga, dan disusun sedemikian rupa hingga membentuk data set baru seperti dibawah :\n",
        "  Dalam bentuk data tunggal\n",
        "    4.6, 4.7, 4.7, 4.9, 5.0, 5.1, 5.4, 5.6, 5.8, 6.3, 6.3, 6.5, 7.1, 7.3, 7.6\n",
        "  Dalam bentuk data kelompok (tabel frekuensi):\n",
        "    \"\\n\",\n",
        "        \"|||||\\n\",\n",
        "        \"|--- |--- |--- |--- |\\n\",\n",
        "        \"|**Interval Jumlah**|**Frekuensi ( $f$ )**|\\n\",\n",
        "        \"| ***4.5 – 5*** | ***4*** |\\n\",\n",
        "        \"| 5 – 5.5\\t| 3 |\\n\",\n",
        "        \"| 5.5 – 6\\t| 2 |\\n\",\n",
        "        \"| 6 - 6.5 | 2 |\\n\",\n",
        "        \"| 6.5 - 7 | 1 |\\n\",\n",
        "        \"| 7 - 7.5 | 2 |\\n\",\n",
        "        \"| 7.5 - 8 | 1 |\\n\",\n",
        "        \"| Jumlah data | $\\\\sum{f} = $ \\t15 | | - |\\n\",\n",
        "        \"||||\\n\",\n",
        "        \"\\n\",\n",
        "\n",
        "a) Jangkauan (range)\n",
        "    Jangkauan sering disebut range atau rentang. Jangkauan dari suatu data didefinisikan sebagai selisih antara data terbesar dan terkecil. Jangkauan disimbolkan dengan Huruf\n",
        "    Rumus umum jangkauan yaitu R = xmax - xmin\n",
        "    Keterangan : \n",
        "    R = Jangkauan atau Range\n",
        "    xmax = nilai atau data terbesar\n",
        "    xmin = nilai atau data terkecil\n",
        "    \n",
        "    Jangkauan data tunggal :\n",
        "      Xmax = 7,6\n",
        "      Xmin = 4,6\n",
        "      R = (4,6 +7,6) /2\n",
        "        = 6,1\n",
        "        \n",
        "    Jangkauan data kelompok\n",
        "    \n",
        "  \n",
        "b) Simpangan Rata-rata\n",
        "    Simpangan rata-rata atau deviasi rata-rata adalah ukuran yang menyatakan seberapa besar penyebaran tiap nilai meannya (rata-ratanya)\n",
        "    \n",
        "    Simpangan rata-rata data tunggal\n",
        "    Rumus menghitung simpangan rata-rata data tunggal :\n",
        "    SR =\n",
        "       \n",
        "    \n",
        "    Simpangan rata-rata data berkelompok\n",
        "    Rumus menghitung simpangan rata-rata data berkelompok :\n",
        "      \n",
        "      \n",
        "b) Simpangan Baku (Standar Deviasi)\n",
        "    Simpangan Baku data tunggal\n",
        "    Diketahui sekumpulan data kuantittif yang tidak dikelompokkan dan dinyatakan oleh x1, x2,......,xn. Dari data tersebut dapat diperoleh nilai simpangan baku (S) yang ditentukan oleh rumus berikut\n",
        "    <gambar rumus>\n",
        "    Data Sampel berlaku untuk n<30 dan data populasi untuk n>= 30\n",
        "    \n",
        "    \n",
        "    Simpangan Baku data Berkelompok\n",
        "    Sekumpulan data kuantittif yang dikelompokkan dan dinyatakan oleh x1, x2,......,xn dan masing-masing data mempunyai frekuensi f1, f2, ......., fn. Simpangan baku (S) dari data tersebut dieroleh dengan menggunakan rumus\n",
        "    \n",
        "    \n",
        "c) Variansi\n",
        "    Variansi (ragam) adalah rata-rata dari jumlah kuadrat simpangan tiap data. Ragam bisa dirumuskan sebagai\n",
        "    Ragam = S^2\n",
        "    Artinya ragam diperoleh dari nilai simpangan bakudikuadratkan.\n"
      ],
      "execution_count": 1,
      "outputs": [
        {
          "output_type": "error",
          "ename": "SyntaxError",
          "evalue": "ignored",
          "traceback": [
            "\u001b[0;36m  File \u001b[0;32m\"<ipython-input-1-7b38aed67521>\"\u001b[0;36m, line \u001b[0;32m1\u001b[0m\n\u001b[0;31m    Ukuran Persebaran Data\u001b[0m\n\u001b[0m                    ^\u001b[0m\n\u001b[0;31mSyntaxError\u001b[0m\u001b[0;31m:\u001b[0m invalid syntax\n"
          ]
        }
      ]
    }
  ]
}