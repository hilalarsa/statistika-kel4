{
  "nbformat": 4,
  "nbformat_minor": 0,
  "metadata": {
    "colab": {
      "name": "Untitled0.ipynb",
      "version": "0.3.2",
      "provenance": [],
      "collapsed_sections": [],
      "include_colab_link": true
    },
    "kernelspec": {
      "name": "python3",
      "display_name": "Python 3"
    }
  },
  "cells": [
    {
      "cell_type": "markdown",
      "metadata": {
        "id": "view-in-github",
        "colab_type": "text"
      },
      "source": [
        "<a href=\"https://colab.research.google.com/github/hilalarsa/statistika-kel4/blob/master/Ukuran_Persebaran_Data.ipynb\" target=\"_parent\"><img src=\"https://colab.research.google.com/assets/colab-badge.svg\" alt=\"Open In Colab\"/></a>"
      ]
    },
    {
      "cell_type": "markdown",
      "metadata": {
        "id": "ZK4O9Bt6zdho",
        "colab_type": "text"
      },
      "source": [
        "# **Ukuran Persebaran Data**\n",
        "\n",
        "Dengan menentukan pemusatan data dan ukuran letak data ternyata belum cukup memberikan gambaran yang jelas dari suatu data. Pada pengukuran statistika, selain ukuran pemusatan dan ukuran letak, juga ada Ukuran Penyebaran Data.\n",
        "\n",
        "Ukuran Penyebaran data adalah ukuran yang menunjukkan seberapa jauh data suatu menyebar dari rata-ratanya. Dalam Penyebaran Data akan dipelajari materi Jangkauan (range), Simpangan, dan Ragam (variansi).\n",
        "\n",
        "---\n",
        "\n",
        "\n",
        "\n",
        "Dalam mempelajari Ukuran Persebaran Data, akan digunakan data pengukuran bunga lily pada tahun 1936 oleh R.A. Fisher (https://archive.ics.uci.edu/ml/datasets/Iris)  yang berisi 150 data set pengukuran bunga lily yang dipetakan dengan 4 buah atribut dan 1 buah kesimpulan klasifikasi\n",
        "\n",
        "\n",
        "Dengan kelompok data ini, kemudian diambil sample beberapa data dari lebar kelopak bunga, dan disusun sedemikian rupa hingga membentuk data set baru seperti dibawah :\n",
        "\n",
        "*   Dalam bentuk data tunggal\n",
        "\n",
        "      4.6, 4.7, 4.7, 4.9, 5.0, 5.1, 5.4, 5.6, 5.8, 6.3, 6.3, 6.5, 7.1, 7.3, 7.6\n",
        "      \n",
        "      \n",
        "*   Dalam bentuk data kelompok (tabel frekuensi):\n",
        "\n",
        "<a href=\"https://imgbb.com/\"><img src=\"https://i.ibb.co/V2PFP5G/Screenshot-41.png\" alt=\"Screenshot-41\" border=\"0\"></a>\n",
        "\n",
        "\n",
        "---\n",
        "\n",
        "\n",
        "\n",
        "Berikut pembahasan materi ukuran persebaran data :\n",
        "\n",
        "## 1.   Jangkauan (range)\n",
        "       \n",
        "Jangkauan sering disebut range atau rentang. Jangkauan dari suatu data didefinisikan sebagai selisih antara data terbesar dan terkecil. Jangkauan disimbolkan dengan Huruf. Rumus umum jangkauan yaitu \n",
        "    \n",
        "<a href=\"https://imgbb.com/\"><img src=\"https://i.ibb.co/wKVky6F/Screenshot-37.png\" alt=\"Screenshot-37\" border=\"0\"></a>\n",
        "<a href=\"https://imgbb.com/\"><img src=\"https://i.ibb.co/Jnbht3t/Screenshot-38.png\" alt=\"Screenshot-38\" border=\"0\"></a>\n",
        "       \n",
        "       \n",
        "## 2.   Simpangan baku (Standar Deviasi)\n",
        "\n",
        "**Simpangan Baku data tunggal**\n",
        "\n",
        "Diketahui sekumpulan data kuantittif yang tidak dikelompokkan dan dinyatakan oleh x1, x2,......,xn. Dari data tersebut dapat diperoleh nilai simpangan baku (S) yang ditentukan oleh rumus berikut\n",
        "\n",
        "<a href=\"https://imgbb.com/\"><img src=\"https://i.ibb.co/XDKK4h3/Screenshot-39.png\" alt=\"Screenshot-39\" border=\"0\"></a>\n",
        "\n",
        "Data Sampel berlaku untuk n<30 dan data populasi untuk n>= 30\n",
        "  \n",
        "  \n",
        "**Simpangan Baku data Berkelompok**\n",
        "\n",
        "Sekumpulan data kuantittif yang dikelompokkan dan dinyatakan oleh x1, x2,......,xn dan masing-masing data mempunyai frekuensi f1, f2, ......., fn. Simpangan baku (S) dari data tersebut dieroleh dengan menggunakan rumus\n",
        "\n",
        "<a href=\"https://imgbb.com/\"><img src=\"https://i.ibb.co/mGSfXbM/Screenshot-40.png\" alt=\"Screenshot-40\" border=\"0\"></a>\n",
        "      \n",
        "      \n",
        "## 3.   Variasi\n",
        "  \n",
        "Variansi (ragam) adalah rata-rata dari jumlah kuadrat simpangan tiap data. Ragam bisa dirumuskan sebagai\n",
        "\n",
        "Ragam = S^2\n",
        "\n",
        "Artinya ragam diperoleh dari nilai simpangan bakudikuadratkan.\n"
      ]
    }
  ]
}